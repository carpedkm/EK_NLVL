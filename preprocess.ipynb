{
 "cells": [
  {
   "cell_type": "markdown",
   "metadata": {},
   "source": [
    "# Charades"
   ]
  },
  {
   "cell_type": "code",
   "execution_count": 1,
   "metadata": {},
   "outputs": [],
   "source": [
    "import clip"
   ]
  },
  {
   "cell_type": "code",
   "execution_count": 10,
   "metadata": {},
   "outputs": [],
   "source": [
    "pth = '/ekt-nlvl/data/charades/annotations/charades_bart_summ_random_set_3_result_mnli_nb4_lp2.0_maxl50_minl10_ng3.txt'"
   ]
  },
  {
   "cell_type": "code",
   "execution_count": 11,
   "metadata": {},
   "outputs": [],
   "source": [
    "with open(pth, 'r') as f:\n",
    "    tmp = f.readlines()"
   ]
  },
  {
   "cell_type": "code",
   "execution_count": 12,
   "metadata": {},
   "outputs": [],
   "source": [
    "import os\n",
    "newlist = ''\n",
    "for line_ in tmp:\n",
    "    # print(line_)\n",
    "    vid, start, end = line_.split('##')[0].split(' ')\n",
    "    sent = line_.split('##')[1].strip()\n",
    "    # print(sent)\n",
    "    sent_ = sent.split('.')\n",
    "    sent_ = sent_[0]\n",
    "    \n",
    "    if len(sent_) <= 3:\n",
    "        continue\n",
    "    sent_ = sent_ + '.\\n'\n",
    "    if len(sent_) <= 5:\n",
    "        continue\n",
    "    if 'Visibility is limited' in sent_:\n",
    "        continue\n",
    "    newsent = vid + ' ' + start + ' ' + end + '##' + sent_\n",
    "    # print(sent_)\n",
    "    newlist = newlist + newsent\n",
    "\n",
    "         "
   ]
  },
  {
   "cell_type": "code",
   "execution_count": 13,
   "metadata": {},
   "outputs": [],
   "source": [
    "with open(pth, 'w') as f:\n",
    "    f.writelines(newlist)"
   ]
  },
  {
   "cell_type": "markdown",
   "metadata": {},
   "source": [
    "# ANet"
   ]
  },
  {
   "cell_type": "code",
   "execution_count": null,
   "metadata": {},
   "outputs": [],
   "source": [
    "pth = '/ekt-nlvl/data/charades/annotations/charades_bartsumm_unsup_as_gt_using_iou_mnli_nb4_lp2.0_maxl50_minl10_ng3.txt'"
   ]
  },
  {
   "cell_type": "code",
   "execution_count": null,
   "metadata": {},
   "outputs": [],
   "source": [
    "import json\n",
    "with open(pth, 'r') as f:\n",
    "    tmp = json.load(f)"
   ]
  },
  {
   "cell_type": "code",
   "execution_count": 2,
   "metadata": {},
   "outputs": [
    {
     "ename": "NameError",
     "evalue": "name 'tmp' is not defined",
     "output_type": "error",
     "traceback": [
      "\u001b[0;31m---------------------------------------------------------------------------\u001b[0m",
      "\u001b[0;31mNameError\u001b[0m                                 Traceback (most recent call last)",
      "\u001b[0;32m/tmp/ipykernel_1816115/602458951.py\u001b[0m in \u001b[0;36m<module>\u001b[0;34m\u001b[0m\n\u001b[1;32m      2\u001b[0m \u001b[0mnewlist\u001b[0m \u001b[0;34m=\u001b[0m \u001b[0;34m''\u001b[0m\u001b[0;34m\u001b[0m\u001b[0;34m\u001b[0m\u001b[0m\n\u001b[1;32m      3\u001b[0m \u001b[0mnew_dic\u001b[0m \u001b[0;34m=\u001b[0m \u001b[0;34m{\u001b[0m\u001b[0;34m}\u001b[0m\u001b[0;34m\u001b[0m\u001b[0;34m\u001b[0m\u001b[0m\n\u001b[0;32m----> 4\u001b[0;31m \u001b[0;32mfor\u001b[0m \u001b[0mkey\u001b[0m \u001b[0;32min\u001b[0m \u001b[0mtmp\u001b[0m\u001b[0;34m.\u001b[0m\u001b[0mkeys\u001b[0m\u001b[0;34m(\u001b[0m\u001b[0;34m)\u001b[0m\u001b[0;34m:\u001b[0m\u001b[0;34m\u001b[0m\u001b[0;34m\u001b[0m\u001b[0m\n\u001b[0m\u001b[1;32m      5\u001b[0m     \u001b[0;31m# print(line_)\u001b[0m\u001b[0;34m\u001b[0m\u001b[0;34m\u001b[0m\u001b[0;34m\u001b[0m\u001b[0m\n\u001b[1;32m      6\u001b[0m \u001b[0;34m\u001b[0m\u001b[0m\n",
      "\u001b[0;31mNameError\u001b[0m: name 'tmp' is not defined"
     ]
    }
   ],
   "source": [
    "import os\n",
    "newlist = ''\n",
    "new_dic = {}\n",
    "for key in tmp.keys():\n",
    "    # print(line_)\n",
    "    \n",
    "    info = tmp[key]\n",
    "    \n",
    "    duration = float(tmp[key]['duration'])\n",
    "    timestamps = tmp[key]['timestamps']\n",
    "    sentences = tmp[key]['sentences']\n",
    "    \n",
    "    new_ts = []\n",
    "    new_sents = []\n",
    "    for ts, sent in zip(timestamps, sentences):\n",
    "        u_tmps = sent.split('.')\n",
    "        u_tmps = u_tmps[0]\n",
    "        u_tmps_tmp = u_tmps.split(' ')\n",
    "        for t in u_tmps_tmp:\n",
    "            if len(t) >= 32:\n",
    "                t = t[0]\n",
    "        sent = u_tmps + '.'\n",
    "        if len(sent) <= 3:\n",
    "            continue\n",
    "        if 'Visibility is limited' in sent:\n",
    "            continue\n",
    "        new_ts.append(ts)\n",
    "        new_sents.append(sent)\n",
    "    new_dic[key] = {'duration':duration, 'timestamps':new_ts, 'sentences':new_sents}\n",
    "    \n",
    "    \n",
    "\n",
    "         "
   ]
  },
  {
   "cell_type": "code",
   "execution_count": null,
   "metadata": {},
   "outputs": [],
   "source": [
    "with open(pth, 'w') as f:\n",
    "    json.dump(new_dic, f)"
   ]
  },
  {
   "cell_type": "code",
   "execution_count": null,
   "metadata": {},
   "outputs": [],
   "source": []
  },
  {
   "cell_type": "code",
   "execution_count": 14,
   "metadata": {},
   "outputs": [],
   "source": [
    "a = [1, 2, 3]"
   ]
  },
  {
   "cell_type": "code",
   "execution_count": 15,
   "metadata": {},
   "outputs": [
    {
     "data": {
      "text/plain": [
       "[1, 2]"
      ]
     },
     "execution_count": 15,
     "metadata": {},
     "output_type": "execute_result"
    }
   ],
   "source": [
    "a[:-1]"
   ]
  },
  {
   "cell_type": "code",
   "execution_count": null,
   "metadata": {},
   "outputs": [],
   "source": [
    " "
   ]
  }
 ],
 "metadata": {
  "interpreter": {
   "hash": "d4d1e4263499bec80672ea0156c357c1ee493ec2b1c70f0acce89fc37c4a6abe"
  },
  "kernelspec": {
   "display_name": "Python 3.7.4 ('base')",
   "language": "python",
   "name": "python3"
  },
  "language_info": {
   "codemirror_mode": {
    "name": "ipython",
    "version": 3
   },
   "file_extension": ".py",
   "mimetype": "text/x-python",
   "name": "python",
   "nbconvert_exporter": "python",
   "pygments_lexer": "ipython3",
   "version": "3.6.13"
  },
  "orig_nbformat": 4
 },
 "nbformat": 4,
 "nbformat_minor": 2
}
